{
  "nbformat": 4,
  "nbformat_minor": 0,
  "metadata": {
    "colab": {
      "provenance": [],
      "collapsed_sections": [
        "5mzVDXeIxf6P",
        "olHVvZBEvty8",
        "FBAoCfHnhSfh",
        "tYIcTALEChMb",
        "UGmSGnDiCkeI",
        "Qg1W63e6CnUR"
      ]
    },
    "kernelspec": {
      "name": "python3",
      "display_name": "Python 3"
    },
    "language_info": {
      "name": "python"
    }
  },
  "cells": [
    {
      "cell_type": "markdown",
      "metadata": {
        "id": "5mzVDXeIxf6P"
      },
      "source": [
        "#Data Gathering"
      ]
    },
    {
      "cell_type": "markdown",
      "metadata": {
        "id": "CtDZb0H4KiRK"
      },
      "source": [
        "##Data Preparation"
      ]
    },
    {
      "cell_type": "code",
      "metadata": {
        "id": "Kj1XQOt-FLn8"
      },
      "source": [
        "haar = cv2.CascadeClassifier('/content/drive/MyDrive/My/MSc/Research/Face Predictions/haarcascade_frontalface_default.xml')\n",
        "\n",
        "def crop(image):\n",
        "  global haar\n",
        "  gray_image = cv2.cvtColor(image,cv2.COLOR_BGR2GRAY)\n",
        "  face_cordinates = haar.detectMultiScale(gray_image,1.5,5)\n",
        "  crop_images = []\n",
        "  for x,y,w,h in face_cordinates:\n",
        "    roi = gray_image[y:y+h,x:x+w]\n",
        "    crop_images.append(roi)\n",
        "  return crop_images , face_cordinates\n",
        "\n",
        "\n",
        "def _save_croped_image(image_path,save_path,gender,i,image_size):\n",
        "  image = cv2.imread(image_path)\n",
        "  crop_images , face_cordinates = crop(image)\n",
        "  for im in crop_images:\n",
        "    if im.shape[0] >= 48:  # Minimum size of acceptable image is 48\n",
        "      im = cv2.resize(im,(image_size,image_size),cv2.INTER_AREA) # Shrink image to 48 x 48\n",
        "      cv2.imwrite(f'{save_path}/{gender}/{gender}_{i}.png', im)\n",
        "    else:\n",
        "      print(f'{gender} Path {i} SMALLER than 48 x 48')"
      ],
      "execution_count": null,
      "outputs": []
    },
    {
      "cell_type": "code",
      "metadata": {
        "colab": {
          "base_uri": "https://localhost:8080/"
        },
        "id": "nE5bNSKTRbCi",
        "outputId": "306e7ae3-0823-4f09-9fa3-9e31137fab24"
      },
      "source": [
        "female_paths = glob('/content/drive/MyDrive/My/MSc/Research/Face Predictions/Gender/Original/female/*.jpg')\n",
        "male_paths = glob('/content/drive/MyDrive/My/MSc/Research/Face Predictions/Gender/Original/male/*.jpg')\n",
        "save_path = '/content/drive/MyDrive/My/MSc/Research/Face Predictions/Gender/Crop'\n",
        "image_size = 48\n",
        "\n",
        "for i,image_path in enumerate(female_paths):\n",
        "    try:\n",
        "        _save_croped_image(image_path,save_path,'female',i,image_size)\n",
        "        #print(f'Female Path {i} Successful')\n",
        "    except:\n",
        "        print(f'Female Path {i} NOT Successful. Error Occured !!!')\n",
        "\n",
        "for i,image_path in enumerate(male_paths):\n",
        "    try:\n",
        "        _save_croped_image(image_path,save_path,'male',i,image_size)\n",
        "        #print(f'Male Path {i} Successful')\n",
        "    except:\n",
        "        print(f'Male Path {i} NOT Successful. Error Occured !!!')"
      ],
      "execution_count": null,
      "outputs": [
        {
          "output_type": "stream",
          "name": "stdout",
          "text": [
            "male Path 474 SMALLER than 48 x 48\n",
            "male Path 1788 SMALLER than 48 x 48\n"
          ]
        }
      ]
    },
    {
      "cell_type": "markdown",
      "metadata": {
        "id": "-nGRPtH7RPIU"
      },
      "source": [
        "##Gender Model"
      ]
    },
    {
      "cell_type": "markdown",
      "metadata": {
        "id": "OXM9-hXSNgq0"
      },
      "source": [
        "###Image Generators"
      ]
    },
    {
      "cell_type": "code",
      "metadata": {
        "id": "v9ytIifN0VsJ"
      },
      "source": [
        "batch_size = 64\n",
        "train_size = 12000 # Change to 12000\n",
        "vali_size = 5000 # Change to 5840\n",
        "\n",
        "train_path = '/content/drive/MyDrive/My/MSc/Research/Face Predictions/Gender/Data/Train'\n",
        "test_path = '/content/drive/MyDrive/My/MSc/Research/Face Predictions/Gender/Data/Test'\n",
        "vali_path = '/content/drive/MyDrive/My/MSc/Research/Face Predictions/Gender/Data/Validation'\n",
        "\n",
        "model_gen_ph1_path = '/content/drive/MyDrive/My/MSc/Research/Face Predictions/Gender/Models/model_gen_ph1.h5'\n",
        "model_gen_final_path = '/content/drive/MyDrive/My/MSc/Research/Face Predictions/Gender/Models/model_gen_final.h5'\n",
        "\n",
        "image_generator = ImageDataGenerator(rotation_range=20, # rotate the image 20 degrees\n",
        "                               width_shift_range=0.05, # Shift the pic width by a max of 5%\n",
        "                               height_shift_range=0.05, # Shift the pic height by a max of 5%\n",
        "                               rescale=1/255, # Rescale the image by normalzing it.\n",
        "                               shear_range=0.05, # Shear means cutting away part of the image (max 10%)\n",
        "                               zoom_range=0.05, # Zoom in by 5% max\n",
        "                               horizontal_flip=True, # Allo horizontal flipping\n",
        "                               fill_mode='nearest', # Fill in missing pixels with the nearest filled value\n",
        "                              )\n",
        "\n",
        "# test_photo = f'{train_path}/female1/female1_100.png'\n",
        "# para_img = cv2.imread(test_photo)\n",
        "# fig, axs = plt.subplots(1, 2)\n",
        "# axs[0].imshow(para_img)\n",
        "# axs[1].imshow(image_generator.random_transform(para_img))"
      ],
      "execution_count": null,
      "outputs": []
    },
    {
      "cell_type": "code",
      "metadata": {
        "id": "lij-Y8g66rz1",
        "colab": {
          "base_uri": "https://localhost:8080/"
        },
        "outputId": "0b4deb41-f622-4a00-cf4d-b1d095fc09d9"
      },
      "source": [
        "train_generator = image_generator.flow_from_directory(train_path,\n",
        "                                          target_size=(48,48),\n",
        "                                          color_mode=\"rgb\",\n",
        "                                          batch_size=batch_size,\n",
        "                                          class_mode='binary')\n",
        "\n",
        "print(f'\\nClass Lables : {train_generator.class_indices}')"
      ],
      "execution_count": null,
      "outputs": [
        {
          "output_type": "stream",
          "name": "stdout",
          "text": [
            "Found 24049 images belonging to 2 classes.\n",
            "\n",
            "Class Lables : {'female1': 0, 'male1': 1}\n"
          ]
        }
      ]
    },
    {
      "cell_type": "code",
      "metadata": {
        "colab": {
          "base_uri": "https://localhost:8080/"
        },
        "id": "hXe8SWQs1FfJ",
        "outputId": "87c5a083-33b8-41f2-ee9e-29d0f1cefb18"
      },
      "source": [
        "test_generator = image_generator.flow_from_directory(test_path,\n",
        "                                         target_size=(48,48),\n",
        "                                         color_mode=\"rgb\",\n",
        "                                         batch_size=batch_size,\n",
        "                                         class_mode='binary',\n",
        "                                         shuffle=False)\n",
        "\n",
        "print(f'\\nClass Lables : {test_generator.class_indices}')"
      ],
      "execution_count": null,
      "outputs": [
        {
          "output_type": "stream",
          "name": "stdout",
          "text": [
            "Found 6054 images belonging to 2 classes.\n",
            "\n",
            "Class Lables : {'female': 0, 'male': 1}\n"
          ]
        }
      ]
    },
    {
      "cell_type": "code",
      "metadata": {
        "colab": {
          "base_uri": "https://localhost:8080/"
        },
        "id": "2Bu-lvrPNQBy",
        "outputId": "23fec608-1f9d-4514-ebed-2cb243b66077"
      },
      "source": [
        "vali_generator = image_generator.flow_from_directory(vali_path,\n",
        "                                         target_size=(48,48),\n",
        "                                         color_mode=\"rgb\",\n",
        "                                         batch_size=batch_size,\n",
        "                                         class_mode='binary',\n",
        "                                         shuffle=False)\n",
        "\n",
        "print(f'\\nClass Lables : {vali_generator.class_indices}')"
      ],
      "execution_count": null,
      "outputs": [
        {
          "output_type": "stream",
          "name": "stdout",
          "text": [
            "Found 6054 images belonging to 2 classes.\n",
            "\n",
            "Class Lables : {'female': 0, 'male': 1}\n"
          ]
        }
      ]
    },
    {
      "cell_type": "markdown",
      "metadata": {
        "id": "IIqll0ytNrI2"
      },
      "source": [
        "###Model Training"
      ]
    },
    {
      "cell_type": "markdown",
      "metadata": {
        "id": "wn_URGHY2Cel"
      },
      "source": [
        "####Phase 01"
      ]
    },
    {
      "cell_type": "code",
      "metadata": {
        "id": "0wi-YrhxM0eB",
        "colab": {
          "base_uri": "https://localhost:8080/"
        },
        "outputId": "0576938f-dec1-43f3-c942-daf7c405a220"
      },
      "source": [
        "backbone = EfficientNetB2(input_shape=(48, 48, 3), include_top=False)\n",
        "\n",
        "model_gen = Sequential()\n",
        "model_gen.add(backbone)\n",
        "model_gen.add(GlobalAveragePooling2D())\n",
        "model_gen.add(Dropout(0.25))\n",
        "model_gen.add(Dense(units=128,activation='relu'))\n",
        "model_gen.add(Dense(units=1,activation='sigmoid'))\n",
        "\n",
        "model_gen.compile(loss='binary_crossentropy',\n",
        "                  optimizer='adam',\n",
        "                  metrics=['accuracy'],# tf.keras.metrics.Precision(name='precision'), tf.keras.metrics.Recall(name='recall')]\n",
        "                  )\n",
        "\n",
        "model_gen.summary()"
      ],
      "execution_count": null,
      "outputs": [
        {
          "output_type": "stream",
          "name": "stdout",
          "text": [
            "Downloading data from https://storage.googleapis.com/keras-applications/efficientnetb2_notop.h5\n",
            "31793152/31790344 [==============================] - 0s 0us/step\n",
            "31801344/31790344 [==============================] - 0s 0us/step\n",
            "Model: \"sequential\"\n",
            "_________________________________________________________________\n",
            "Layer (type)                 Output Shape              Param #   \n",
            "=================================================================\n",
            "efficientnetb2 (Functional)  (None, 2, 2, 1408)        7768569   \n",
            "_________________________________________________________________\n",
            "global_average_pooling2d (Gl (None, 1408)              0         \n",
            "_________________________________________________________________\n",
            "dropout (Dropout)            (None, 1408)              0         \n",
            "_________________________________________________________________\n",
            "dense (Dense)                (None, 128)               180352    \n",
            "_________________________________________________________________\n",
            "dense_1 (Dense)              (None, 1)                 129       \n",
            "=================================================================\n",
            "Total params: 7,949,050\n",
            "Trainable params: 7,881,475\n",
            "Non-trainable params: 67,575\n",
            "_________________________________________________________________\n"
          ]
        }
      ]
    },
    {
      "cell_type": "code",
      "metadata": {
        "colab": {
          "base_uri": "https://localhost:8080/"
        },
        "id": "thUIeJjSCk-k",
        "outputId": "be2877f5-73b9-4b59-cf36-d55b251d2517"
      },
      "source": [
        "# class_weights = class_weight.compute_class_weight('balanced', np.unique(train_generator.classes), train_generator.classes)\n",
        "early_stopping = EarlyStopping(monitor = 'val_loss', verbose = 1, patience = 3)\n",
        "check_pointer = ModelCheckpoint(filepath = model_gen_ph1_path, verbose = 1, monitor='val_accuracy', mode='max', save_best_only=True)\n",
        "\n",
        "history = model_gen.fit(train_generator,\n",
        "                        epochs=10,\n",
        "                        validation_data=vali_generator,\n",
        "                        steps_per_epoch = train_size//batch_size,\n",
        "                        callbacks=[early_stopping, check_pointer],\n",
        "                        validation_steps = vali_size//batch_size,\n",
        "                        #class_weight={k:i for (k,i) in enumerate(class_weights)}\n",
        "                        )\n",
        "\n",
        "print(f\"\\nCell Executed on {(datetime.now() + timedelta(hours=5,minutes=30)).strftime('%Y-%m-%d @ %H:%M:%S')}\\n\")"
      ],
      "execution_count": null,
      "outputs": [
        {
          "output_type": "stream",
          "name": "stdout",
          "text": [
            "Epoch 1/10\n",
            "187/187 [==============================] - 3872s 21s/step - loss: 0.3896 - accuracy: 0.8301 - val_loss: 2.5039 - val_accuracy: 0.2812\n",
            "\n",
            "Epoch 00001: val_accuracy improved from -inf to 0.28125, saving model to /content/drive/MyDrive/My/MSc/Research/Face Predictions/Gender/Models/model_gen_ph1.h5\n",
            "Epoch 2/10\n",
            "187/187 [==============================] - 1487s 8s/step - loss: 0.2146 - accuracy: 0.9182 - val_loss: 3.8516 - val_accuracy: 0.2812\n",
            "\n",
            "Epoch 00002: val_accuracy did not improve from 0.28125\n",
            "Epoch 3/10\n",
            "187/187 [==============================] - 824s 4s/step - loss: 0.1856 - accuracy: 0.9297 - val_loss: 1.3128 - val_accuracy: 0.2835\n",
            "\n",
            "Epoch 00003: val_accuracy improved from 0.28125 to 0.28345, saving model to /content/drive/MyDrive/My/MSc/Research/Face Predictions/Gender/Models/model_gen_ph1.h5\n",
            "Epoch 4/10\n",
            "187/187 [==============================] - 422s 2s/step - loss: 0.1717 - accuracy: 0.9362 - val_loss: 1.0752 - val_accuracy: 0.2963\n",
            "\n",
            "Epoch 00004: val_accuracy improved from 0.28345 to 0.29627, saving model to /content/drive/MyDrive/My/MSc/Research/Face Predictions/Gender/Models/model_gen_ph1.h5\n",
            "Epoch 5/10\n",
            "187/187 [==============================] - 258s 1s/step - loss: 0.1537 - accuracy: 0.9441 - val_loss: 1.0642 - val_accuracy: 0.4836\n",
            "\n",
            "Epoch 00005: val_accuracy improved from 0.29627 to 0.48357, saving model to /content/drive/MyDrive/My/MSc/Research/Face Predictions/Gender/Models/model_gen_ph1.h5\n",
            "Epoch 6/10\n",
            "187/187 [==============================] - 146s 780ms/step - loss: 0.1399 - accuracy: 0.9487 - val_loss: 825.5604 - val_accuracy: 0.7185\n",
            "\n",
            "Epoch 00006: val_accuracy improved from 0.48357 to 0.71855, saving model to /content/drive/MyDrive/My/MSc/Research/Face Predictions/Gender/Models/model_gen_ph1.h5\n",
            "Epoch 7/10\n",
            "187/187 [==============================] - 99s 531ms/step - loss: 0.1347 - accuracy: 0.9519 - val_loss: 0.7914 - val_accuracy: 0.6016\n",
            "\n",
            "Epoch 00007: val_accuracy did not improve from 0.71855\n",
            "Epoch 8/10\n",
            "187/187 [==============================] - 82s 438ms/step - loss: 0.1272 - accuracy: 0.9530 - val_loss: 0.7863 - val_accuracy: 0.6585\n",
            "\n",
            "Epoch 00008: val_accuracy did not improve from 0.71855\n",
            "Epoch 9/10\n",
            "187/187 [==============================] - 73s 393ms/step - loss: 0.1297 - accuracy: 0.9552 - val_loss: 1.5442 - val_accuracy: 0.2953\n",
            "\n",
            "Epoch 00009: val_accuracy did not improve from 0.71855\n",
            "Epoch 10/10\n",
            "187/187 [==============================] - 65s 347ms/step - loss: 0.1353 - accuracy: 0.9523 - val_loss: 2.9677 - val_accuracy: 0.2821\n",
            "\n",
            "Epoch 00010: val_accuracy did not improve from 0.71855\n"
          ]
        }
      ]
    },
    {
      "cell_type": "markdown",
      "metadata": {
        "id": "l-3iaGRH302O"
      },
      "source": [
        "####Phase 02"
      ]
    },
    {
      "cell_type": "code",
      "metadata": {
        "colab": {
          "base_uri": "https://localhost:8080/"
        },
        "id": "aNZkLDReZRxS",
        "outputId": "3d0c96cf-d70f-4353-bf84-b3c4b18ee26b"
      },
      "source": [
        "model_gen = load_model(model_gen_ph1_path)\n",
        "model_gen.compile(loss='binary_crossentropy',optimizer='adam', metrics=['accuracy'])\n",
        "model_gen.summary()"
      ],
      "execution_count": null,
      "outputs": [
        {
          "output_type": "stream",
          "name": "stdout",
          "text": [
            "Model: \"sequential\"\n",
            "_________________________________________________________________\n",
            "Layer (type)                 Output Shape              Param #   \n",
            "=================================================================\n",
            "efficientnetb2 (Functional)  (None, 2, 2, 1408)        7768569   \n",
            "_________________________________________________________________\n",
            "global_average_pooling2d (Gl (None, 1408)              0         \n",
            "_________________________________________________________________\n",
            "dropout (Dropout)            (None, 1408)              0         \n",
            "_________________________________________________________________\n",
            "dense (Dense)                (None, 128)               180352    \n",
            "_________________________________________________________________\n",
            "dense_1 (Dense)              (None, 1)                 129       \n",
            "=================================================================\n",
            "Total params: 7,949,050\n",
            "Trainable params: 7,881,475\n",
            "Non-trainable params: 67,575\n",
            "_________________________________________________________________\n"
          ]
        }
      ]
    },
    {
      "cell_type": "code",
      "metadata": {
        "id": "EWDtO_4K4dBd",
        "colab": {
          "base_uri": "https://localhost:8080/"
        },
        "outputId": "e2f42392-4b05-4b4d-eaa7-94216c1858e9"
      },
      "source": [
        "model_gen.layers[0].trainable = False\n",
        "early_stopping = EarlyStopping(monitor = 'val_loss', verbose = 1, patience = 5)\n",
        "check_pointer = ModelCheckpoint(filepath = model_gen_final_path, verbose = 1, monitor='val_accuracy', mode='max', save_best_only=True)\n",
        "model_gen.summary()"
      ],
      "execution_count": null,
      "outputs": [
        {
          "output_type": "stream",
          "name": "stdout",
          "text": [
            "Model: \"sequential\"\n",
            "_________________________________________________________________\n",
            "Layer (type)                 Output Shape              Param #   \n",
            "=================================================================\n",
            "efficientnetb2 (Functional)  (None, 2, 2, 1408)        7768569   \n",
            "_________________________________________________________________\n",
            "global_average_pooling2d (Gl (None, 1408)              0         \n",
            "_________________________________________________________________\n",
            "dropout (Dropout)            (None, 1408)              0         \n",
            "_________________________________________________________________\n",
            "dense (Dense)                (None, 128)               180352    \n",
            "_________________________________________________________________\n",
            "dense_1 (Dense)              (None, 1)                 129       \n",
            "=================================================================\n",
            "Total params: 7,949,050\n",
            "Trainable params: 180,481\n",
            "Non-trainable params: 7,768,569\n",
            "_________________________________________________________________\n"
          ]
        }
      ]
    },
    {
      "cell_type": "code",
      "metadata": {
        "id": "8AdbDPV76BB_",
        "colab": {
          "base_uri": "https://localhost:8080/"
        },
        "outputId": "7c7f7537-2ffe-41fa-8181-2412bec34e5b"
      },
      "source": [
        "history = model_gen.fit(train_generator,\n",
        "                        epochs=30,\n",
        "                        validation_data=vali_generator,\n",
        "                        steps_per_epoch = train_size//batch_size,\n",
        "                        callbacks=[early_stopping, check_pointer],\n",
        "                        validation_steps = vali_size//batch_size,\n",
        "                        #class_weight={k:i for (k,i) in enumerate(class_weights)}\n",
        "                        )\n",
        "\n",
        "print(f\"\\nCell Executed on {(datetime.now() + timedelta(hours=5,minutes=30)).strftime('%Y-%m-%d @ %H:%M:%S')}\\n\")"
      ],
      "execution_count": null,
      "outputs": [
        {
          "output_type": "stream",
          "name": "stdout",
          "text": [
            "Epoch 1/30\n",
            "187/187 [==============================] - 78s 353ms/step - loss: 0.1751 - accuracy: 0.9376 - val_loss: 2.2261 - val_accuracy: 0.7188\n",
            "\n",
            "Epoch 00001: val_accuracy improved from -inf to 0.71875, saving model to /content/drive/MyDrive/My/MSc/Research/Face Predictions/Gender/Models/model_gen_final.h5\n",
            "Epoch 2/30\n",
            "187/187 [==============================] - 61s 326ms/step - loss: 0.1470 - accuracy: 0.9442 - val_loss: 1.3125 - val_accuracy: 0.2935\n",
            "\n",
            "Epoch 00002: val_accuracy did not improve from 0.71875\n",
            "Epoch 3/30\n",
            "187/187 [==============================] - 61s 326ms/step - loss: 0.1242 - accuracy: 0.9561 - val_loss: 1.8993 - val_accuracy: 0.2817\n",
            "\n",
            "Epoch 00003: val_accuracy did not improve from 0.71875\n",
            "Epoch 4/30\n",
            "187/187 [==============================] - 61s 326ms/step - loss: 0.1174 - accuracy: 0.9593 - val_loss: 1.9180 - val_accuracy: 0.5479\n",
            "\n",
            "Epoch 00004: val_accuracy did not improve from 0.71875\n",
            "Epoch 5/30\n",
            "187/187 [==============================] - 60s 320ms/step - loss: 0.1154 - accuracy: 0.9586 - val_loss: 0.9768 - val_accuracy: 0.6711\n",
            "\n",
            "Epoch 00005: val_accuracy did not improve from 0.71875\n",
            "Epoch 6/30\n",
            "187/187 [==============================] - 59s 315ms/step - loss: 0.1148 - accuracy: 0.9598 - val_loss: 1.1461 - val_accuracy: 0.6480\n",
            "\n",
            "Epoch 00006: val_accuracy did not improve from 0.71875\n",
            "Epoch 7/30\n",
            "187/187 [==============================] - 59s 313ms/step - loss: 0.1152 - accuracy: 0.9600 - val_loss: 0.4684 - val_accuracy: 0.7965\n",
            "\n",
            "Epoch 00007: val_accuracy improved from 0.71875 to 0.79647, saving model to /content/drive/MyDrive/My/MSc/Research/Face Predictions/Gender/Models/model_gen_final.h5\n",
            "Epoch 8/30\n",
            "187/187 [==============================] - 59s 314ms/step - loss: 0.1163 - accuracy: 0.9608 - val_loss: 0.8569 - val_accuracy: 0.7284\n",
            "\n",
            "Epoch 00008: val_accuracy did not improve from 0.79647\n",
            "Epoch 9/30\n",
            "187/187 [==============================] - 59s 316ms/step - loss: 0.1028 - accuracy: 0.9656 - val_loss: 0.7868 - val_accuracy: 0.7183\n",
            "\n",
            "Epoch 00009: val_accuracy did not improve from 0.79647\n",
            "Epoch 10/30\n",
            "187/187 [==============================] - 59s 313ms/step - loss: 0.0973 - accuracy: 0.9669 - val_loss: 0.9469 - val_accuracy: 0.6895\n",
            "\n",
            "Epoch 00010: val_accuracy did not improve from 0.79647\n",
            "Epoch 11/30\n",
            "187/187 [==============================] - 58s 309ms/step - loss: 0.0984 - accuracy: 0.9649 - val_loss: 1.9557 - val_accuracy: 0.5130\n",
            "\n",
            "Epoch 00011: val_accuracy did not improve from 0.79647\n",
            "Epoch 12/30\n",
            "187/187 [==============================] - 58s 311ms/step - loss: 0.0956 - accuracy: 0.9652 - val_loss: 0.9173 - val_accuracy: 0.7566\n",
            "\n",
            "Epoch 00012: val_accuracy did not improve from 0.79647\n",
            "Epoch 00012: early stopping\n"
          ]
        }
      ]
    },
    {
      "cell_type": "code",
      "metadata": {
        "colab": {
          "base_uri": "https://localhost:8080/"
        },
        "id": "yBejNEzqeWHu",
        "outputId": "be83f286-d6c9-4bfe-9e15-917bed425aab"
      },
      "source": [
        "losses = pd.DataFrame(history.history)\n",
        "losses[['loss','val_loss']].plot()\n",
        "losses[['accuracy','val_accuracy']].plot()"
      ],
      "execution_count": null,
      "outputs": [
        {
          "output_type": "execute_result",
          "data": {
            "text/plain": [
              "<matplotlib.axes._subplots.AxesSubplot at 0x7fb97db77f10>"
            ]
          },
          "metadata": {},
          "execution_count": 11
        },
        {
          "output_type": "display_data",
          "data": {
            "image/png": "[encoded data removed]",
            "text/plain": [
              "<Figure size 432x288 with 1 Axes>"
            ]
          },
          "metadata": {
            "needs_background": "light"
          }
        },
        {
          "output_type": "display_data",
          "data": {
            "image/png": "[encoded data removed]",
            "text/plain": [
              "<Figure size 432x288 with 1 Axes>"
            ]
          },
          "metadata": {
            "needs_background": "light"
          }
        }
      ]
    },
    {
      "cell_type": "markdown",
      "metadata": {
        "id": "FsO9iMXyTiPo"
      },
      "source": [
        "####Evaluation"
      ]
    },
    {
      "cell_type": "code",
      "metadata": {
        "colab": {
          "base_uri": "https://localhost:8080/"
        },
        "id": "cpI_fYwONbOq",
        "outputId": "bb5436cf-5512-4672-8824-d1918922f795"
      },
      "source": [
        "model_gen = load_model(model_gen_final_path)\n",
        "model_gen.summary()"
      ],
      "execution_count": null,
      "outputs": [
        {
          "output_type": "stream",
          "name": "stdout",
          "text": [
            "Model: \"sequential\"\n",
            "_________________________________________________________________\n",
            "Layer (type)                 Output Shape              Param #   \n",
            "=================================================================\n",
            "efficientnetb2 (Functional)  (None, 2, 2, 1408)        7768569   \n",
            "_________________________________________________________________\n",
            "global_average_pooling2d (Gl (None, 1408)              0         \n",
            "_________________________________________________________________\n",
            "dropout (Dropout)            (None, 1408)              0         \n",
            "_________________________________________________________________\n",
            "dense (Dense)                (None, 128)               180352    \n",
            "_________________________________________________________________\n",
            "dense_1 (Dense)              (None, 1)                 129       \n",
            "=================================================================\n",
            "Total params: 7,949,050\n",
            "Trainable params: 7,881,475\n",
            "Non-trainable params: 67,575\n",
            "_________________________________________________________________\n"
          ]
        }
      ]
    },
    {
      "cell_type": "code",
      "metadata": {
        "colab": {
          "base_uri": "https://localhost:8080/"
        },
        "id": "71rsLeEpa-8X",
        "outputId": "766aaeb6-cb48-4d81-e3ae-dfdbf3eff20d"
      },
      "source": [
        "print(f'Model Matrices For Evaluation : {model_gen.metrics_names}\\n')\n",
        "model_gen.evaluate(test_generator,verbose=1)"
      ],
      "execution_count": null,
      "outputs": [
        {
          "output_type": "stream",
          "name": "stdout",
          "text": [
            "95/95 [==============================] - 196s 2s/step - loss: 0.4432 - accuracy: 0.8133\n"
          ]
        },
        {
          "output_type": "execute_result",
          "data": {
            "text/plain": [
              "[0.4431906044483185, 0.8133465647697449]"
            ]
          },
          "metadata": {},
          "execution_count": 13
        }
      ]
    },
    {
      "cell_type": "code",
      "metadata": {
        "id": "EHeiOZh-cKgS",
        "colab": {
          "base_uri": "https://localhost:8080/"
        },
        "outputId": "3199f6cf-9bd2-495e-caa3-c0a50d995636"
      },
      "source": [
        "pred_probabilities = model_gen.predict(test_generator,verbose=1)\n",
        "predictions = pred_probabilities > 0.5\n",
        "\n",
        "print(classification_report(test_generator.classes,predictions))"
      ],
      "execution_count": null,
      "outputs": [
        {
          "output_type": "stream",
          "name": "stdout",
          "text": [
            "95/95 [==============================] - 21s 196ms/step\n",
            "              precision    recall  f1-score   support\n",
            "\n",
            "           0       0.93      0.75      0.83      3588\n",
            "           1       0.71      0.92      0.80      2466\n",
            "\n",
            "    accuracy                           0.82      6054\n",
            "   macro avg       0.82      0.83      0.81      6054\n",
            "weighted avg       0.84      0.82      0.82      6054\n",
            "\n"
          ]
        }
      ]
    },
    {
      "cell_type": "code",
      "metadata": {
        "colab": {
          "base_uri": "https://localhost:8080/"
        },
        "id": "j2OmlSNjgDp3",
        "outputId": "abd3faaa-93a1-477b-ad2b-c9108112a7ac"
      },
      "source": [
        "plt.figure(figsize=(6,4))\n",
        "sns.heatmap(confusion_matrix(test_generator.classes,predictions),annot=True)"
      ],
      "execution_count": null,
      "outputs": [
        {
          "output_type": "execute_result",
          "data": {
            "text/plain": [
              "<matplotlib.axes._subplots.AxesSubplot at 0x7fb9dea443d0>"
            ]
          },
          "metadata": {},
          "execution_count": 15
        },
        {
          "output_type": "display_data",
          "data": {
            "image/png": "[encoded data removed]",
            "text/plain": [
              "<Figure size 432x288 with 2 Axes>"
            ]
          },
          "metadata": {
            "needs_background": "light"
          }
        }
      ]
    },
    {
      "cell_type": "markdown",
      "metadata": {
        "id": "olHVvZBEvty8"
      },
      "source": [
        "#Predict Gender"
      ]
    },
    {
      "cell_type": "markdown",
      "metadata": {
        "id": "r_obzZ04LkkV"
      },
      "source": [
        "##Libraries"
      ]
    },
    {
      "cell_type": "code",
      "metadata": {
        "id": "0W7nOn6ovUxh",
        "colab": {
          "base_uri": "https://localhost:8080/"
        },
        "outputId": "a353bbfa-0960-49cd-c41c-41c0693cd3c0"
      },
      "source": [
        "import pandas as pd\n",
        "import numpy as np\n",
        "import tensorflow as tf\n",
        "import cv2\n",
        "import matplotlib.pyplot as plt\n",
        "import seaborn as sns\n",
        "from glob import glob\n",
        "from datetime import datetime, timedelta\n",
        "from google.colab.patches import cv2_imshow\n",
        "from tensorflow.keras.preprocessing.image import ImageDataGenerator\n",
        "from tensorflow.keras.layers import GlobalAveragePooling2D, Dropout, Dense, Activation\n",
        "from sklearn.utils import class_weight\n",
        "from tensorflow.keras.callbacks import ReduceLROnPlateau, EarlyStopping, ModelCheckpoint, LearningRateScheduler\n",
        "from tensorflow.keras.initializers import glorot_uniform\n",
        "from tensorflow.keras.applications import EfficientNetB2\n",
        "from tensorflow.keras.models import Sequential, load_model, save_model\n",
        "from sklearn.metrics import classification_report,confusion_matrix\n",
        "\n",
        "import warnings\n",
        "warnings.filterwarnings('ignore')\n",
        "\n",
        "print(f\"\\nCell Executed on {(datetime.now() + timedelta(hours=5,minutes=30)).strftime('%Y-%m-%d @ %H:%M:%S')}\\n\")"
      ],
      "execution_count": null,
      "outputs": [
        {
          "output_type": "stream",
          "name": "stdout",
          "text": [
            "\n",
            "Cell Executed on 2021-09-18 @ 15:54:45\n",
            "\n"
          ]
        }
      ]
    },
    {
      "cell_type": "markdown",
      "metadata": {
        "id": "VLiXD5qAWAfh"
      },
      "source": [
        "##Load Model"
      ]
    },
    {
      "cell_type": "markdown",
      "metadata": {
        "id": "pk-GKaC9z3-B"
      },
      "source": [
        "###Predict Many Images"
      ]
    },
    {
      "cell_type": "code",
      "metadata": {
        "colab": {
          "base_uri": "https://localhost:8080/"
        },
        "id": "zFUudFJLRAWU",
        "outputId": "193022e9-bba0-4268-e40c-10f1e0a1853c"
      },
      "source": [
        "#unseen_data_path = '/content/drive/MyDrive/My/MSc/Research/Face Predictions/Gender/Data/Unseen'\n",
        "unseen_data_path = '/content/drive/MyDrive/My/MSc/Research/Face Predictions/Gender/Data/Evaluate'\n",
        "model_gen_final_path = '/content/drive/MyDrive/My/MSc/Research/Face Predictions/Gender/Models/model_gen_final.h5'\n",
        "model_gen = load_model(model_gen_final_path)\n",
        "model_gen.summary()\n",
        "print('\\n\\n-----------Model Outputs-----------\\n\\n00 --> Female\\n01 --> Male')"
      ],
      "execution_count": null,
      "outputs": [
        {
          "output_type": "stream",
          "name": "stdout",
          "text": [
            "Model: \"sequential\"\n",
            "_________________________________________________________________\n",
            "Layer (type)                 Output Shape              Param #   \n",
            "=================================================================\n",
            "efficientnetb2 (Functional)  (None, 2, 2, 1408)        7768569   \n",
            "_________________________________________________________________\n",
            "global_average_pooling2d (Gl (None, 1408)              0         \n",
            "_________________________________________________________________\n",
            "dropout (Dropout)            (None, 1408)              0         \n",
            "_________________________________________________________________\n",
            "dense (Dense)                (None, 128)               180352    \n",
            "_________________________________________________________________\n",
            "dense_1 (Dense)              (None, 1)                 129       \n",
            "=================================================================\n",
            "Total params: 7,949,050\n",
            "Trainable params: 7,881,475\n",
            "Non-trainable params: 67,575\n",
            "_________________________________________________________________\n",
            "\n",
            "\n",
            "-----------Model Outputs-----------\n",
            "\n",
            "00 --> Female\n",
            "01 --> Male\n"
          ]
        }
      ]
    },
    {
      "cell_type": "code",
      "metadata": {
        "colab": {
          "base_uri": "https://localhost:8080/"
        },
        "id": "NcJ7jjUOQ6i1",
        "outputId": "e812139e-ae57-4b63-a90f-33a16e0cc337"
      },
      "source": [
        "# Credits: https://stackoverflow.com/questions/45806669/how-to-use-predict-generator-with-imagedatagenerator\n",
        "\n",
        "image_generator_for_predict = ImageDataGenerator(rescale=1 / 255) # We trained for rescaled images.So scaling is must.\n",
        "unseen_data_gen = image_generator_for_predict.flow_from_directory(unseen_data_path, target_size=(48,48), color_mode=\"rgb\",\n",
        "                                                                  batch_size=1, class_mode='binary', shuffle=False)\n",
        "#shuffle = True --> gives predictions of randomly selected data in dataset. So then we can not use \"evaluate\" method in generator.\n",
        "\n",
        "filenames = unseen_data_gen.filenames\n",
        "nb_samples = len(filenames)\n",
        "\n",
        "print(f'\\nClass Lables : {unseen_data_gen.class_indices}\\n\\nNumber of Samples to Predict : {nb_samples}')"
      ],
      "execution_count": null,
      "outputs": [
        {
          "output_type": "stream",
          "name": "stdout",
          "text": [
            "Found 200 images belonging to 2 classes.\n",
            "\n",
            "Class Lables : {'female': 0, 'male': 1}\n",
            "\n",
            "Number of Samples to Predict : 200\n"
          ]
        }
      ]
    },
    {
      "cell_type": "code",
      "metadata": {
        "colab": {
          "base_uri": "https://localhost:8080/"
        },
        "id": "xkCu9vA5jSVV",
        "outputId": "825590f3-a4d1-46bc-a501-117db76f527f"
      },
      "source": [
        "print(f'Model Matrices For Evaluation : {model_gen.metrics_names}\\n')\n",
        "model_gen.evaluate_generator(unseen_data_gen, verbose=1, steps=nb_samples)"
      ],
      "execution_count": null,
      "outputs": [
        {
          "output_type": "stream",
          "name": "stdout",
          "text": [
            "Model Matrices For Evaluation : ['loss', 'accuracy']\n",
            "\n",
            "200/200 [==============================] - 58s 278ms/step - loss: 0.1040 - accuracy: 0.9550\n"
          ]
        },
        {
          "output_type": "execute_result",
          "data": {
            "text/plain": [
              "[0.10404467582702637, 0.9549999833106995]"
            ]
          },
          "metadata": {},
          "execution_count": 4
        }
      ]
    },
    {
      "cell_type": "code",
      "metadata": {
        "colab": {
          "base_uri": "https://localhost:8080/"
        },
        "id": "K1ijZZbsf97n",
        "outputId": "ffdb1605-943a-4548-df4e-c3bb83cde27e"
      },
      "source": [
        "pred_probabilities = model_gen.predict(unseen_data_gen, verbose=1, steps=nb_samples)\n",
        "predictions = pred_probabilities > 0.5\n",
        "\n",
        "print('\\n\\n-----------Model Outputs-----------\\n\\n00 --> Female\\n01 --> Male\\n\\n')\n",
        "print(classification_report(unseen_data_gen.classes,predictions))\n",
        "sns.heatmap(confusion_matrix(unseen_data_gen.classes,predictions),annot=True)"
      ],
      "execution_count": null,
      "outputs": [
        {
          "output_type": "stream",
          "name": "stdout",
          "text": [
            "200/200 [==============================] - 6s 21ms/step\n",
            "\n",
            "\n",
            "-----------Model Outputs-----------\n",
            "\n",
            "00 --> Female\n",
            "01 --> Male\n",
            "\n",
            "\n",
            "              precision    recall  f1-score   support\n",
            "\n",
            "           0       0.95      0.96      0.96       100\n",
            "           1       0.96      0.95      0.95       100\n",
            "\n",
            "    accuracy                           0.95       200\n",
            "   macro avg       0.96      0.95      0.95       200\n",
            "weighted avg       0.96      0.95      0.95       200\n",
            "\n"
          ]
        },
        {
          "output_type": "execute_result",
          "data": {
            "text/plain": [
              "<matplotlib.axes._subplots.AxesSubplot at 0x7fb8123b1610>"
            ]
          },
          "metadata": {},
          "execution_count": 5
        },
        {
          "output_type": "display_data",
          "data": {
            "image/png": "[encoded data removed]",
            "text/plain": [
              "<Figure size 432x288 with 2 Axes>"
            ]
          },
          "metadata": {
            "needs_background": "light"
          }
        }
      ]
    },
    {
      "cell_type": "markdown",
      "metadata": {
        "id": "FBAoCfHnhSfh"
      },
      "source": [
        "###Predict Single Image"
      ]
    },
    {
      "cell_type": "code",
      "metadata": {
        "colab": {
          "base_uri": "https://localhost:8080/"
        },
        "id": "5G4RYP-aBSf5",
        "outputId": "95ceae5f-b064-47ad-feeb-916af6b57df1"
      },
      "source": [
        "model_haar = cv2.CascadeClassifier('/content/drive/MyDrive/My/MSc/Research/Face Predictions/haarcascade_frontalface_default.xml')\n",
        "model_gen_final_path = '/content/drive/MyDrive/My/MSc/Research/Face Predictions/Gender/Models/model_gen_final.h5'\n",
        "image_path = '/content/Capture1.PNG'\n",
        "save_path = '/content/'\n",
        "model_gen = load_model(model_gen_final_path)\n",
        "model_gen.summary()\n",
        "print('\\n\\n-----------Model Outputs-----------\\n\\n00 --> Female\\n01 --> Male')"
      ],
      "execution_count": null,
      "outputs": [
        {
          "output_type": "stream",
          "name": "stdout",
          "text": [
            "Model: \"sequential\"\n",
            "_________________________________________________________________\n",
            "Layer (type)                 Output Shape              Param #   \n",
            "=================================================================\n",
            "efficientnetb2 (Functional)  (None, 2, 2, 1408)        7768569   \n",
            "_________________________________________________________________\n",
            "global_average_pooling2d (Gl (None, 1408)              0         \n",
            "_________________________________________________________________\n",
            "dropout (Dropout)            (None, 1408)              0         \n",
            "_________________________________________________________________\n",
            "dense (Dense)                (None, 128)               180352    \n",
            "_________________________________________________________________\n",
            "dense_1 (Dense)              (None, 1)                 129       \n",
            "=================================================================\n",
            "Total params: 7,949,050\n",
            "Trainable params: 7,881,475\n",
            "Non-trainable params: 67,575\n",
            "_________________________________________________________________\n",
            "\n",
            "\n",
            "-----------Model Outputs-----------\n",
            "\n",
            "00 --> Female\n",
            "01 --> Male\n"
          ]
        }
      ]
    },
    {
      "cell_type": "code",
      "metadata": {
        "id": "cM6EhRvY5HXf"
      },
      "source": [
        "def final_face_cordinates(gray_image):\n",
        "\n",
        "  haar_front = cv2.CascadeClassifier(cv2.data.haarcascades + 'haarcascade_frontalface_default.xml')\n",
        "  haar_profile = cv2.CascadeClassifier(cv2.data.haarcascades + 'haarcascade_profileface.xml')\n",
        "\n",
        "  # af1_list = [1.5, 1.3]\n",
        "  # af2_list = [5,  3]\n",
        "  # ap1_list = [1.5, 1.3]\n",
        "  # ap2_list = [5,   3]\n",
        "\n",
        "  af1_list = [1.5,1.2, 1.3]\n",
        "  af2_list = [5,2,  3]\n",
        "  ap1_list = [1.5,1.4, 1.2]\n",
        "  ap2_list = [5,3,  3]\n",
        "  face_cordinates = []\n",
        "\n",
        "  for i in range(len(af1_list)):\n",
        "\n",
        "    array_front = haar_front.detectMultiScale(gray_image,af1_list[i],af2_list[i])\n",
        "    array_profile = haar_profile.detectMultiScale(gray_image,ap1_list[i],ap2_list[i])\n",
        "\n",
        "    if (len(array_front) == 0) and (len(array_profile) > 0): temp_face_cordinates = [list(x) for x in array_profile]\n",
        "    elif len(array_profile) == 0: temp_face_cordinates = [list(x) for x in array_front]\n",
        "    else: temp_face_cordinates = [list(x) for x in np.concatenate((array_front, array_profile), axis=0)]\n",
        "    face_cordinates.extend(temp_face_cordinates)\n",
        "    #print(af1,af2,ap1,ap2,face_cordinates)\n",
        "\n",
        "  d_face_cords = {(x,y,w,h):True for x,y,w,h in face_cordinates}\n",
        "  face_cordinates= [[x,y,w,h] for x,y,w,h in d_face_cords.keys()]\n",
        "  d_keep = {id:True for id in range(len(face_cordinates))}\n",
        "  #print(f'Final Face Cords : {face_cordinates}')\n",
        "  d_xy = {id:(item[0],item[0]+item[2],item[1],item[1]+item[3]) for id,item in enumerate(face_cordinates)}\n",
        "  for id_keep,item_keep in enumerate(face_cordinates):\n",
        "    x_lu = item_keep[0] ; y_lu = item_keep[1];\n",
        "    x_ld = item_keep[0] ; y_ld = item_keep[1] + item_keep[3];\n",
        "    x_ru = item_keep[0] + item_keep[2] ; y_ru = item_keep[1];\n",
        "    x_rd = item_keep[0] + item_keep[2] ; y_rd = item_keep[1] + item_keep[3];\n",
        "    for i in range(len(face_cordinates)):\n",
        "      x_min = d_xy[i][0]; x_max = d_xy[i][1];\n",
        "      y_min = d_xy[i][2]; y_max = d_xy[i][3];\n",
        "\n",
        "      if id_keep==i or not d_keep[i]: continue\n",
        "      elif (x_min <= x_lu <= x_max) and (y_min <= y_lu <= y_max):\n",
        "        d_keep[id_keep] = False\n",
        "        continue\n",
        "      elif (x_min <= x_ld <= x_max) and (y_min <= y_ld <= y_max):\n",
        "        d_keep[id_keep] = False\n",
        "        continue\n",
        "      elif (x_min <= x_ru <= x_max) and (y_min <= y_ru <= y_max):\n",
        "        d_keep[id_keep] = False\n",
        "        continue\n",
        "      elif (x_min <= x_rd <= x_max) and (y_min <= y_rd <= y_max):\n",
        "        d_keep[id_keep] = False\n",
        "        continue\n",
        "\n",
        "  return [list(face_cordinates[id]) for id in range(len(face_cordinates)) if d_keep[id]]\n",
        "\n",
        "def Crop_Load(image_path, save_path, model_gen):\n",
        "  image_upload = cv2.imread(image_path)\n",
        "  print(image_upload.shape)\n",
        "  gray_image = cv2.cvtColor(image_upload,cv2.COLOR_BGR2GRAY)\n",
        "  crop_images = []\n",
        "  face_cordinates = final_face_cordinates(gray_image)\n",
        "  #print(f'Crop Fun Face Cords : {face_cordinates}')\n",
        "  for x,y,w,h in face_cordinates:\n",
        "    roi = gray_image[y:y+h,x:x+w]\n",
        "    crop_images.append(roi)\n",
        "\n",
        "  if len(crop_images)==0:\n",
        "    print('''Please Upload images that contains Direct Faces.''')\n",
        "  else:\n",
        "    # for i in crop_images:\n",
        "    #     result = cv2.cvtColor(i, cv2.COLOR_BGR2RGB)\n",
        "    #     pixels = np.array(result)\n",
        "    #     plt.imshow(pixels)\n",
        "    #     plt.show()\n",
        "    for id,im in enumerate(crop_images):\n",
        "      if im.shape[0] >= 48:  # Minimum size of acceptable image is 48\n",
        "        im_48 = cv2.resize(im,(48,48),cv2.INTER_AREA) # Shrink image to 48 x 48\n",
        "        im_ch3 = cv2.cvtColor(im_48,cv2.COLOR_GRAY2RGB) # Gray image with 3 channels\n",
        "        im_reshape = im_ch3.reshape(1,48,48,3) # batch_size,height,width,channels\n",
        "        im_scaled = im_reshape/255  # We trained model for scaled data\n",
        "        model_pred = round(float(model_gen.predict(im_scaled)[0][0]),3) #python cannot round np.float32\n",
        "\n",
        "        if model_pred <= 0.30: gender = 'Female'; #print(f'\\nPrediction : {gender}  | Probability : {model_pred*100} %\\n')\n",
        "        elif model_pred >=0.70: gender = 'Male'; #print(f'\\nPrediction : {gender} |  Probability : {model_pred*100} %\\n')\n",
        "        else: print(f'\\nIGNORED : {model_pred}\\n'); continue\n",
        "\n",
        "        x,y,w,h = face_cordinates[id]\n",
        "        cv2.rectangle(image_upload,(x,y),(x+w,y+h),(0,255,0),2)\n",
        "        cv2.putText(image_upload, f'{gender}', (x,y), cv2.FONT_HERSHEY_SIMPLEX, 1, (0,255,0), 2)\n",
        "\n",
        "\n",
        "      else:\n",
        "        print(f'\\nSome Faces in Your Image are Too SMALL!!\\n')\n",
        "    cv2.imwrite(f\"{save_path}{image_path.split('.')[-2][-2:]}.{image_path.split('.')[-1]}\", image_upload)\n",
        "  return image_upload\n",
        "\n",
        "for i in range(1,2):\n",
        "  image_path = f'/content/Edits/Capture{i:02d}.PNG'\n",
        "  save_path = '/content/Saves/'\n",
        "  print(f'\\n\\n========================== IMAGE {i:02d} ==========================\\n\\n')\n",
        "  result = Crop_Load(image_path,save_path,model_gen)\n",
        "  result = cv2.cvtColor(result, cv2.COLOR_BGR2RGB)\n",
        "  pixels = np.array(result)\n",
        "  plt.imshow(pixels)\n",
        "  plt.show()"
      ],
      "execution_count": null,
      "outputs": []
    },
    {
      "cell_type": "code",
      "metadata": {
        "id": "ZvR5ArqaVFsE"
      },
      "source": [
        "def final_face_cordinates(gray_image):\n",
        "\n",
        "  haar_front = cv2.CascadeClassifier(cv2.data.haarcascades + 'haarcascade_frontalface_default.xml')\n",
        "  haar_profile = cv2.CascadeClassifier(cv2.data.haarcascades + 'haarcascade_profileface.xml')\n",
        "\n",
        "  af1_list = [1.5, 1.3]\n",
        "  af2_list = [5,  3]\n",
        "  ap1_list = [1.5, 1.3]\n",
        "  ap2_list = [5,   3]\n",
        "  face_cordinates = []\n",
        "\n",
        "  for af1 in af1_list:\n",
        "    for af2 in af2_list:\n",
        "      for ap1 in ap1_list:\n",
        "        for ap2 in ap2_list:\n",
        "          array_front = haar_front.detectMultiScale(gray_image,af1,af2)\n",
        "          array_profile = haar_profile.detectMultiScale(gray_image,ap1,ap2)\n",
        "\n",
        "          if (len(array_front) == 0) and (len(array_profile) > 0): temp_face_cordinates = [list(x) for x in array_profile]\n",
        "          elif len(array_profile) == 0: temp_face_cordinates = [list(x) for x in array_front]\n",
        "          else: temp_face_cordinates = [list(x) for x in np.concatenate((array_front, array_profile), axis=0)]\n",
        "          face_cordinates.extend(temp_face_cordinates)\n",
        "          #print(af1,af2,ap1,ap2,face_cordinates)\n",
        "\n",
        "  d_face_cords = {(x,y,w,h):True for x,y,w,h in face_cordinates}\n",
        "  face_cordinates= [[x,y,w,h] for x,y,w,h in d_face_cords.keys()]\n",
        "  d_keep = {id:True for id in range(len(face_cordinates))}\n",
        "  #print(f'Final Face Cords : {face_cordinates}')\n",
        "  d_xy = {id:(item[0],item[0]+item[2],item[1],item[1]+item[3]) for id,item in enumerate(face_cordinates)}\n",
        "  for id_keep,item_keep in enumerate(face_cordinates):\n",
        "    x_lu = item_keep[0] ; y_lu = item_keep[1];\n",
        "    x_ld = item_keep[0] ; y_ld = item_keep[1] + item_keep[3];\n",
        "    x_ru = item_keep[0] + item_keep[2] ; y_ru = item_keep[1];\n",
        "    x_rd = item_keep[0] + item_keep[2] ; y_rd = item_keep[1] + item_keep[3];\n",
        "    for i in range(len(face_cordinates)):\n",
        "      x_min = d_xy[i][0]; x_max = d_xy[i][1];\n",
        "      y_min = d_xy[i][2]; y_max = d_xy[i][3];\n",
        "\n",
        "      if id_keep==i or not d_keep[i]: continue\n",
        "      elif (x_min <= x_lu <= x_max) and (y_min <= y_lu <= y_max):\n",
        "        d_keep[id_keep] = False\n",
        "        continue\n",
        "      elif (x_min <= x_ld <= x_max) and (y_min <= y_ld <= y_max):\n",
        "        d_keep[id_keep] = False\n",
        "        continue\n",
        "      elif (x_min <= x_ru <= x_max) and (y_min <= y_ru <= y_max):\n",
        "        d_keep[id_keep] = False\n",
        "        continue\n",
        "      elif (x_min <= x_rd <= x_max) and (y_min <= y_rd <= y_max):\n",
        "        d_keep[id_keep] = False\n",
        "        continue\n",
        "\n",
        "  return [list(face_cordinates[id]) for id in range(len(face_cordinates)) if d_keep[id]]\n",
        "\n",
        "def Crop_Load(image_path, save_path, model_gen):\n",
        "  image_upload = cv2.imread(image_path)\n",
        "  gray_image = cv2.cvtColor(image_upload,cv2.COLOR_BGR2GRAY)\n",
        "  crop_images = []\n",
        "  face_cordinates = final_face_cordinates(gray_image)\n",
        "  #print(f'Crop Fun Face Cords : {face_cordinates}')\n",
        "  for x,y,w,h in face_cordinates:\n",
        "    roi = gray_image[y:y+h,x:x+w]\n",
        "    crop_images.append(roi)\n",
        "\n",
        "  if len(crop_images)==0:\n",
        "    print('''Please Upload images that contains Direct Faces.''')\n",
        "  else:\n",
        "    # for i in crop_images:\n",
        "    #     result = cv2.cvtColor(i, cv2.COLOR_BGR2RGB)\n",
        "    #     pixels = np.array(result)\n",
        "    #     plt.imshow(pixels)\n",
        "    #     plt.show()\n",
        "    for id,im in enumerate(crop_images):\n",
        "      if im.shape[0] >= 48:  # Minimum size of acceptable image is 48\n",
        "        im_48 = cv2.resize(im,(48,48),cv2.INTER_AREA) # Shrink image to 48 x 48\n",
        "        im_ch3 = cv2.cvtColor(im_48,cv2.COLOR_GRAY2RGB) # Gray image with 3 channels\n",
        "        im_reshape = im_ch3.reshape(1,48,48,3) # batch_size,height,width,channels\n",
        "        im_scaled = im_reshape/255  # We trained model for scaled data\n",
        "        model_pred = round(float(model_gen.predict(im_scaled)[0][0]),3) #python cannot round np.float32\n",
        "\n",
        "        if model_pred <= 0.30: gender = 'Female'; #print(f'\\nPrediction : {gender}  | Probability : {model_pred*100} %\\n')\n",
        "        elif model_pred >=0.70: gender = 'Male'; #print(f'\\nPrediction : {gender} |  Probability : {model_pred*100} %\\n')\n",
        "        else: print(f'\\nIGNORED : {model_pred}\\n'); continue\n",
        "\n",
        "        x,y,w,h = face_cordinates[id]\n",
        "        cv2.rectangle(image_upload,(x,y),(x+w,y+h),(0,255,0),2)\n",
        "        cv2.putText(image_upload, f'{gender}', (x,y), cv2.FONT_HERSHEY_SIMPLEX, 1, (0,255,0), 2)\n",
        "        cv2.imwrite(f\"{save_path}{image_path.split('.')[-2][-2:]}.{image_path.split('.')[-1]}\", image_upload)\n",
        "\n",
        "      else:\n",
        "        print(f'\\nSome Faces in Your Image are Too SMALL!!\\n')\n",
        "  return image_upload\n",
        "\n",
        "for i in range(1,16):\n",
        "  image_path = f'/content/Edits/Capture{i:02d}.PNG'\n",
        "  save_path = '/content/Saves/'\n",
        "  print(f'\\n\\n========================== IMAGE {i:02d} ==========================\\n\\n')\n",
        "  result = Crop_Load(image_path,save_path,model_gen)\n",
        "  result = cv2.cvtColor(result, cv2.COLOR_BGR2RGB)\n",
        "  pixels = np.array(result)\n",
        "  plt.imshow(pixels)\n",
        "  plt.show()"
      ],
      "execution_count": null,
      "outputs": []
    }
  ]
}
